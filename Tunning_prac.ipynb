{
 "cells": [
  {
   "cell_type": "code",
   "execution_count": 2,
   "metadata": {},
   "outputs": [
    {
     "data": {
      "text/plain": [
       "'%.3f'"
      ]
     },
     "execution_count": 2,
     "metadata": {},
     "output_type": "execute_result"
    }
   ],
   "source": [
    "import numpy as np\n",
    "import numpy.random as random\n",
    "import scipy as sp\n",
    "from pandas import Series,DataFrame\n",
    "import pandas as pd\n",
    "\n",
    "import matplotlib.pyplot as plt\n",
    "import matplotlib as mpl\n",
    "import seaborn as sns\n",
    "%matplotlib inline\n",
    "sns.set()\n",
    "\n",
    "import sklearn\n",
    "\n",
    "%precision 3"
   ]
  },
  {
   "attachments": {},
   "cell_type": "markdown",
   "metadata": {},
   "source": [
    "__머신러닝의 과제와 해결 방법__\n",
    "------\n",
    "\n",
    "1. 새로운 데이터에 적할할 수 없는 경우\n",
    "\n",
    "모델 구축 방식이나 학습 방법에 따라서는 현재의 데이터에 너무 잘 들어맞아 새로운 데이터로는 좋은 결과를 얻지 못할 수 있다.\n",
    "\n",
    "이러한 상황을 과적합(overfitting) 또는 과학습이라고 한다.\n",
    "\n",
    "과적합을 방지하기 위해 미리 테스트 데이터를 구분해 두는 홀드아웃과 교차검증 방법을 살펴본다.\n",
    "\n",
    "2. 모델의 성능 측정 지표\n",
    "\n",
    "모델의 성능을 측정하는 다양한 지표들이 있고, 모델의 목표 성능을 정해 놓는 것이 중요하다. 단순히 어느 한 지표가 좋다고 해서 그 상태에서 모델 구축 작업을 중단하는 것은 바람직하지 않다.\n",
    "\n",
    "3. 정확도가 높은 모델을 구축하기 위해\n",
    "\n",
    "모델을 단독으로 사용하지 않고 여러 모델을 조합해 활용하는 앙상블 학습이 있다.\n",
    "\n",
    "앙상블 학습에서는 개별 학습 결과를 조합하는 방식으로 예측한다. 배깅(Begging), 부스팅(Boosting)이 대표적인 앙상블 학습 방법이다.\n",
    "\n",
    "앙상블 학습으로 모델의 정확도를 조금 더 향상시킬 수 있다."
   ]
  },
  {
   "attachments": {},
   "cell_type": "markdown",
   "metadata": {},
   "source": [
    "__홀드아웃(holdout method)__\n",
    "\n",
    "데이터를 학습 데이터와 테스트 데이터로 임의 분할하고 학습 데이터로는 모델을 구축하고 테스트 데이터를 이용해 모델을 검증하는 방식\n",
    "\n",
    "홀드아웃은 매우 간단하고 데이터가 충분히 많을 경우 실용적이다. 반면 데이터 수가 많지 않을 경우 두가지 문제가 발생한다.\n",
    "\n",
    "1. 테스트 데이터가 무작위로 분할되었으나, 우연히 모델의 성능 평가가 높을 수 있다.\n",
    "\n",
    "2. 적은 데이터를 학습용과 테스트용으로 다시 분할하기 때문에 학습 데이터가 줄어들어 모델이 충분히 학습하지 못한다.\n",
    "\n",
    "한정된 데이터를 최대한 활용하고자 고안된 방법으로 교차검증(cross validation)이 있다."
   ]
  },
  {
   "attachments": {},
   "cell_type": "markdown",
   "metadata": {},
   "source": [
    "\n",
    "__교차검증(cross validation)__\n",
    "\n",
    "데이터를 학습용과 검증용으로 교차해서 사용한다.\n",
    "\n",
    "1. k-겹 교차검증(k-fold cross validation)\n",
    "\n",
    "데이터를 무작위로 k개의 블록으로 나눈다. 그런 다음 k개의 블록 중 하나만으로 검증용으로 나머지 k-1개를 모델을 학습시키는 데 사용한다.\n",
    "패턴을 5번 반복하고 그 각각에 모델 평가 점수를 얻는다.\n",
    "\n",
    "k-겹 교차검증은 우연히 하나의 검증 데이터 블록에서 모델의 평가 점수가 높아도 그 영향력을 줄일 수 있다.\n",
    "\n",
    "k번 반복해 검증하므로 검증 데이터를 제외하지 않고 모든 데이터를 모델 학습에 투입하는 점도 홀드아웃과 비교되는 장점이다.\n",
    "\n",
    "2. LOOCV(Leave-One-Out Cross Validation)\n",
    "\n",
    "k를 샘플 데이터 개수만큼 지정한다. 1개의 데이터를 검증용으로 이용하고 나머지 데이터를 모두 학습용으로 사용해 k번 반복한다. 데이터 수가 적을 때 활용할 수 있다."
   ]
  },
  {
   "cell_type": "code",
   "execution_count": 3,
   "metadata": {},
   "outputs": [
    {
     "name": "stdout",
     "output_type": "stream",
     "text": [
      "Cross validation scores: [0.904 0.912 0.956 0.939 0.956]\n",
      "Cross validation scores: 0.933+-0.022\n"
     ]
    }
   ],
   "source": [
    "from sklearn.datasets import load_breast_cancer\n",
    "from sklearn.tree import DecisionTreeClassifier\n",
    "from sklearn.model_selection import cross_val_score\n",
    "\n",
    "cancer = load_breast_cancer()\n",
    "\n",
    "#의사결정나무 클래스 초기화\n",
    "tree = DecisionTreeClassifier(criterion='entropy', max_depth=3, random_state=0)\n",
    "\n",
    "#k-겹 교차검증 실행\n",
    "scores = cross_val_score(tree, cancer.data, cancer.target, cv=5)\n",
    "\n",
    "print('Cross validation scores: {}'.format(scores))\n",
    "print('Cross validation scores: {:.3f}+-{:.3f}'.format(scores.mean(), scores.std()))"
   ]
  },
  {
   "attachments": {},
   "cell_type": "markdown",
   "metadata": {},
   "source": [
    "\n",
    "__모델의 일반화 성능을 높이기 위한 데이터의 특징과 모델의 파라미터를 다루는 방법__\n",
    "\n",
    "1. 피처 엔지니어링(feature engineering)\n",
    "2. 차원 감소(dimension reduction)\n",
    "3. 하이퍼파라미터 튜닝(hyperparameter tuning)\n",
    "\n",
    "알고리즘이 교유하게 갖는 하이퍼파리미터를 튜닝하는 방법으로 그리드 서치(grid search)가 있다.\n",
    "\n",
    "각 모델 알고리즘에는 고유한 파라미터가 있다. 이 파라미터는 회귀계수와 같이 비용함수를 최소화하기 위해 추정해야하는 변수가 아니라 분석가가 모델을 구현할 때 미리 상황에 맞게 지정하는 값이다. 이 파라미터를 따로 구분해서 하이퍼파라미터라고 부른다.\n",
    "\n",
    "의사결정나무는 분기 횟수, 리지회귀에서는 정규화 정도를 결정하는 파라미터가 하이퍼파라미터이다.\n",
    "\n",
    "그리드 서치는 모델의 모든 하이퍼파리미터 조합을 교차검증해 모델의 성능을 가장 높이는 하이퍼파라미터 조합을 구하는 방법이다."
   ]
  },
  {
   "attachments": {},
   "cell_type": "markdown",
   "metadata": {},
   "source": [
    "__그리드서치__\n",
    "\n",
    "서포트 벡터 머신의 하이퍼파라미터에는 gamma와 C가 있다. 이 2개의 하이퍼파라미터를 다르게 지정하고 각 모델을 평가한다.\n",
    "\n",
    "다음 코드는 np.logspace(-3, 2, num = 6)만큼 모델을 반복적으로 구축하고 가장 높은 성능을 보이는 모델의 gamma와 C 조합을 구한다.\n",
    "\n",
    "logspace은 로그 값으로서 지정된 범위의 값을 배열로 생성한다. 10의 -3승에서 10의 2승 사이의 범위를 6등분한 배열만큼 반복한다.\n",
    "\n",
    "즉 gamma와 C를 이 배열의 조합으로 지정해 모델을 구축하고 홀드아웃 방법으로 모델을 평가한다. 코드를 실행하면 최고 점수를 받은 모델과 이 모델의 gamma와 C가 출력된다. 또한, 각 하이퍼파라미터의 점수를 나타내는 히트맵도 생성된다."
   ]
  },
  {
   "cell_type": "code",
   "execution_count": 4,
   "metadata": {},
   "outputs": [
    {
     "name": "stdout",
     "output_type": "stream",
     "text": [
      "최고 점수: 0.91\n",
      "최고 점수에서의 하이퍼파라미터(gamma, C): (0.001, 1.0)\n"
     ]
    },
    {
     "data": {
      "text/plain": [
       "<Axes: >"
      ]
     },
     "execution_count": 4,
     "metadata": {},
     "output_type": "execute_result"
    },
    {
     "data": {
      "image/png": "[encoded data removed]",
      "text/plain": [
       "<Figure size 640x480 with 2 Axes>"
      ]
     },
     "metadata": {},
     "output_type": "display_data"
    }
   ],
   "source": [
    "from sklearn.svm import SVC\n",
    "from sklearn.model_selection import train_test_split\n",
    "\n",
    "cancer = load_breast_cancer()\n",
    "\n",
    "X_train, X_test, y_train, y_test = train_test_split(cancer.data,\n",
    "                                                    cancer.target,\n",
    "                                                    stratify = cancer.target,\n",
    "                                                    random_state=0)\n",
    "\n",
    "#모든 하이퍼파라미터 조합으로 모델 구축 및 검증\n",
    "scores = {}\n",
    "for gamma in np.logspace(-3, 2, num=6):\n",
    "    for C in np.logspace(-3, 2, num=6):\n",
    "        svm = SVC(gamma=gamma, C=C)\n",
    "        svm.fit(X_train, y_train)\n",
    "        scores[(gamma, C)] = svm.score(X_test, y_test)\n",
    "\n",
    "#검증 결과를 scores에 저장\n",
    "scores = pd.Series(scores)\n",
    "\n",
    "print('최고 점수: {:.2f}'.format(scores.max()))\n",
    "print('최고 점수에서의 하이퍼파라미터(gamma, C): {}'.format(scores.idxmax()))\n",
    "\n",
    "#히트맵 출력, 세로축은 gamma, 가로축은 C\n",
    "sns.heatmap(scores.unstack())"
   ]
  },
  {
   "attachments": {},
   "cell_type": "markdown",
   "metadata": {},
   "source": [
    "__모듈의 함수를 사용한 그리드 서치 실행__\n",
    "\n",
    "학습용 데이터를 GridSearchCV 클래스의 fit 메서드에 전달하는 부분에서 앞의 실습 코드와 달라진다.\n",
    "\n",
    "이 부분부터 하이퍼파라미터를 조합한 여러 모델을 평가하고 가장 성능이 좋은 모델 구축까지 완료한다.\n",
    "\n",
    "가장 좋은 하이퍼파라미터 조합과 모델 평가 점수는 모델의 속성 값에서 추출할 수 있다.\n",
    "\n",
    "GridSearchCV 클래스의 fit 메서드를 실행하면 k-겹 교차검들보다 조금 개선된 방법을 이용한다. 따라서 GridSearchCV 클래스의 초기화 파라미터 cv는 5로 지정한다."
   ]
  },
  {
   "cell_type": "code",
   "execution_count": 5,
   "metadata": {},
   "outputs": [
    {
     "name": "stdout",
     "output_type": "stream",
     "text": [
      "Best cross validation score: 0.925\n",
      "Best parameters: {'C': 1.0, 'gamma': 0.001}\n",
      "Test score: 0.909\n"
     ]
    }
   ],
   "source": [
    "from sklearn.model_selection import GridSearchCV\n",
    "\n",
    "param_grid = { 'C': np.logspace(-3, 2, num=6)\n",
    "              , 'gamma': np.logspace(-3, 2, num=6)}\n",
    "\n",
    "gs = GridSearchCV(estimator=SVC(),\n",
    "                  param_grid=param_grid,\n",
    "                  cv=5)\n",
    "\n",
    "gs.fit(X_train, y_train)\n",
    "\n",
    "print('Best cross validation score: {:.3f}'.format(gs.best_score_))\n",
    "print('Best parameters: {}'.format(gs.best_params_))\n",
    "print('Test score: {:.3f}'.format(gs.score(X_test, y_test)))"
   ]
  },
  {
   "attachments": {},
   "cell_type": "markdown",
   "metadata": {},
   "source": [
    "__랜덤 서치(Random Search)__\n",
    "\n",
    "그리드 서치는 딕셔너리에 지정한 모든 값을 다 탐색해야만 한다. 랜덤 서치는 랜덤하게 숫자를 넣은 뒤, 정해진 간격(grid)사이에 위치한 값들에 대해서도 확률적으로 탐색이 가능하므로, 최적 hyperparapmeter 값을 더 빨리 찾을 수 있다."
   ]
  },
  {
   "attachments": {},
   "cell_type": "markdown",
   "metadata": {},
   "source": [
    "__모델 튜닝: 특징 튜닝__\n",
    "\n",
    "모델의 성능을 튜닝할 때 중요하게 고려하는 특징(feature)을 다루는 방법에 대한 두 개의 관점\n",
    "\n",
    "1. 학습부족(underfitting)\n",
    "\n",
    "모델에 과적합은 발생하지 않지만 모델의 정확도도 낮을 때, 즉 모델의 일반화 성능이 좋지 않을 경우에는 일반적으로 특징(변수, 차원)을 늘이는 방법을 검토한다.\n",
    "\n",
    "예를 들어 새로운 데이터를 수집해 새로운 특징을 추가하거나 특징 간의 비율을 계산해서 새로운 특징을 추가하는 방법을 모색한다.\n",
    "\n",
    "이 밖에 데이터 수를 인위적으로 늘리는 오버샘플링이란 방법도 존재한다.\n",
    "\n",
    "2. 과학습(overfitting)\n",
    "\n",
    "과적합이 의심되면 학습이 부족한 경우와는 반대로 특징을 줄이는 방법을 검토한다. 데이터 개수에 비해 특징의 수가 많으면 모델의 일반화 성능을 측정할 때 오차가 커진다. 이를 차원의 저주라고 한다.\n",
    "\n",
    "특징의 수를 줄이는 것을 차원 감소(dimension reduction)라고 한다. 차원 감소는 두 가지로 분류된다.\n",
    "\n",
    "하나는 특징의 부분 집합을 선택하는 특징선택(feature selection), 다른 하나는 원래의 특징 공간 축을 다른 공간 축으로 변환하는 특징추출(feature extraction)이다.\n",
    "\n",
    "데이터에서 특징을 추출, 생성, 변환하는 방법을 피처 엔지니어링(feature engineering)이라고 하며, 차원 감소 방식 중에서 모델에 대한 해석이 중요한 경우 특징추출은 원래의 특징들을 조합해 변환하므로 어떤 특징이 모델에 어떻게 영향을 미쳤는지 설명하기 어려운 반면에, 특징선택은 다수의 특징 중에서 일부만 선택해 특징 개수를 줄이므로 어떤 특징이 모델 결과에 영향을 미치는지 설명하기 쉽다. 따라서, 일반적으로 특징선택을 이용하는 편이 좋다. \n"
   ]
  },
  {
   "attachments": {},
   "cell_type": "markdown",
   "metadata": {},
   "source": [
    "__모델 성능 평가 지표__\n",
    "\n",
    "모델의 성능을 다양한 평가지표를 이용해 측정할 수 있다.\n",
    "\n"
   ]
  }
 ],
 "metadata": {
  "kernelspec": {
   "display_name": "Python 3",
   "language": "python",
   "name": "python3"
  },
  "language_info": {
   "codemirror_mode": {
    "name": "ipython",
    "version": 3
   },
   "file_extension": ".py",
   "mimetype": "text/x-python",
   "name": "python",
   "nbconvert_exporter": "python",
   "pygments_lexer": "ipython3",
   "version": "3.11.2"
  },
  "orig_nbformat": 4
 },
 "nbformat": 4,
 "nbformat_minor": 2
}
