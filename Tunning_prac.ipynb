{
 "cells": [
  {
   "cell_type": "code",
   "execution_count": 27,
   "metadata": {},
   "outputs": [
    {
     "data": {
      "text/plain": [
       "'%.3f'"
      ]
     },
     "execution_count": 27,
     "metadata": {},
     "output_type": "execute_result"
    }
   ],
   "source": [
    "import numpy as np\n",
    "import numpy.random as random\n",
    "import scipy as sp\n",
    "from pandas import Series,DataFrame\n",
    "import pandas as pd\n",
    "\n",
    "import matplotlib.pyplot as plt\n",
    "import matplotlib as mpl\n",
    "import seaborn as sns\n",
    "%matplotlib inline\n",
    "sns.set()\n",
    "\n",
    "import sklearn\n",
    "\n",
    "%precision 3"
   ]
  },
  {
   "attachments": {},
   "cell_type": "markdown",
   "metadata": {},
   "source": [
    "<p>&nbsp;</p>\n",
    "\n",
    "__머신러닝의 과제와 해결 방법__\n",
    "\n",
    "---\n",
    "\n",
    "> **1.** 새로운 데이터에 적할할 수 없는 경우\n",
    "\n",
    "모델 구축 방식이나 학습 방법에 따라서는 현재의 데이터에 너무 잘 들어맞아 새로운 데이터로는 좋은 결과를 얻지 못할 수 있다.\n",
    "\n",
    "이러한 상황을 과적합(overfitting) 또는 과학습이라고 한다.\n",
    "\n",
    "과적합을 방지하기 위해 미리 테스트 데이터를 구분해 두는 홀드아웃과 교차검증 방법을 살펴본다.\n",
    "\n",
    "> **2.** 모델의 성능 측정 지표\n",
    "\n",
    "모델의 성능을 측정하는 다양한 지표들이 있고, 모델의 목표 성능을 정해 놓는 것이 중요하다. 단순히 어느 한 지표가 좋다고 해서 그 상태에서 모델 구축 작업을 중단하는 것은 바람직하지 않다.\n",
    "\n",
    "> **3.** 정확도가 높은 모델을 구축하기 위해\n",
    "\n",
    "모델을 단독으로 사용하지 않고 여러 모델을 조합해 활용하는 앙상블 학습이 있다.\n",
    "\n",
    "앙상블 학습에서는 개별 학습 결과를 조합하는 방식으로 예측한다. 배깅(Begging), 부스팅(Boosting)이 대표적인 앙상블 학습 방법이다.\n",
    "\n",
    "앙상블 학습으로 모델의 정확도를 조금 더 향상시킬 수 있다.\n",
    "\n",
    "---"
   ]
  },
  {
   "attachments": {},
   "cell_type": "markdown",
   "metadata": {},
   "source": [
    "<p>&nbsp;</p>\n",
    "\n",
    "__홀드아웃(holdout method)__\n",
    "\n",
    "---\n",
    "\n",
    "데이터를 학습 데이터와 테스트 데이터로 임의 분할하고 학습 데이터로는 모델을 구축하고 테스트 데이터를 이용해 모델을 검증하는 방식\n",
    "\n",
    "홀드아웃은 매우 간단하고 데이터가 충분히 많을 경우 실용적이다. 반면 데이터 수가 많지 않을 경우 두가지 문제가 발생한다.\n",
    "\n",
    "> **1.** 테스트 데이터가 무작위로 분할되었으나, 우연히 모델의 성능 평가가 높을 수 있다.\n",
    "\n",
    "> **2.** 적은 데이터를 학습용과 테스트용으로 다시 분할하기 때문에 학습 데이터가 줄어들어 모델이 충분히 학습하지 못한다.\n",
    "\n",
    "---\n",
    "\n",
    "한정된 데이터를 최대한 활용하고자 고안된 방법으로 교차검증(cross validation)이 있다."
   ]
  },
  {
   "attachments": {},
   "cell_type": "markdown",
   "metadata": {},
   "source": [
    "<p>&nbsp;</p>\n",
    "\n",
    "__교차검증(cross validation)__\n",
    "\n",
    "---\n",
    "\n",
    "데이터를 학습용과 검증용으로 교차해서 사용한다.\n",
    "\n",
    "> **1.** k-겹 교차검증(k-fold cross validation)\n",
    "\n",
    "데이터를 무작위로 k개의 블록으로 나눈다. 그런 다음 k개의 블록 중 하나만으로 검증용으로 나머지 k-1개를 모델을 학습시키는 데 사용한다.\n",
    "패턴을 5번 반복하고 그 각각에 모델 평가 점수를 얻는다.\n",
    "\n",
    "k-겹 교차검증은 우연히 하나의 검증 데이터 블록에서 모델의 평가 점수가 높아도 그 영향력을 줄일 수 있다.\n",
    "\n",
    "k번 반복해 검증하므로 검증 데이터를 제외하지 않고 모든 데이터를 모델 학습에 투입하는 점도 홀드아웃과 비교되는 장점이다.\n",
    "\n",
    "> **2.** LOOCV(Leave-One-Out Cross Validation)\n",
    "\n",
    "k를 샘플 데이터 개수만큼 지정한다. 1개의 데이터를 검증용으로 이용하고 나머지 데이터를 모두 학습용으로 사용해 k번 반복한다. 데이터 수가 적을 때 활용할 수 있다."
   ]
  },
  {
   "cell_type": "code",
   "execution_count": 28,
   "metadata": {},
   "outputs": [
    {
     "name": "stdout",
     "output_type": "stream",
     "text": [
      "Cross validation scores: [0.904 0.912 0.956 0.939 0.956]\n",
      "Cross validation scores: 0.933+-0.022\n"
     ]
    }
   ],
   "source": [
    "from sklearn.datasets import load_breast_cancer\n",
    "from sklearn.tree import DecisionTreeClassifier\n",
    "from sklearn.model_selection import cross_val_score\n",
    "\n",
    "cancer = load_breast_cancer()\n",
    "\n",
    "#의사결정나무 클래스 초기화\n",
    "tree = DecisionTreeClassifier(criterion='entropy', max_depth=3, random_state=0)\n",
    "\n",
    "#k-겹 교차검증 실행\n",
    "scores = cross_val_score(tree, cancer.data, cancer.target, cv=5)\n",
    "\n",
    "print('Cross validation scores: {}'.format(scores))\n",
    "print('Cross validation scores: {:.3f}+-{:.3f}'.format(scores.mean(), scores.std()))"
   ]
  },
  {
   "attachments": {},
   "cell_type": "markdown",
   "metadata": {},
   "source": [
    "---\n",
    "\n",
    "<p>&nbsp;</p>\n",
    "\n",
    "__모델의 일반화 성능을 높이기 위한 데이터의 특징과 모델의 파라미터를 다루는 방법__\n",
    "\n",
    "---\n",
    "\n",
    "> **1.** 피처 엔지니어링(feature engineering)\n",
    "\n",
    "> **2.** 차원 감소(dimension reduction)\n",
    "\n",
    "> **3.** 하이퍼파라미터 튜닝(hyperparameter tuning)\n",
    "\n",
    "---"
   ]
  },
  {
   "attachments": {},
   "cell_type": "markdown",
   "metadata": {},
   "source": [
    "<p>&nbsp;</p>\n",
    "\n",
    "__그리드서치__\n",
    "\n",
    "---\n",
    "\n",
    "알고리즘이 교유하게 갖는 하이퍼파리미터를 튜닝하는 방법으로 그리드 서치(grid search)가 있다.\n",
    "\n",
    "각 모델 알고리즘에는 고유한 파라미터가 있다. 이 파라미터는 회귀계수와 같이 비용함수를 최소화하기 위해 추정해야하는 변수가 아니라 분석가가 모델을 구현할 때 미리 상황에 맞게 지정하는 값이다. 이 파라미터를 따로 구분해서 하이퍼파라미터라고 부른다.\n",
    "\n",
    "의사결정나무는 분기 횟수, 리지회귀에서는 정규화 정도를 결정하는 파라미터가 하이퍼파라미터이다.\n",
    "\n",
    "그리드 서치는 모델의 모든 하이퍼파리미터 조합을 교차검증해 모델의 성능을 가장 높이는 하이퍼파라미터 조합을 구하는 방법이다.\n",
    "\n",
    "---\n",
    "\n",
    "서포트 벡터 머신의 하이퍼파라미터에는 gamma와 C가 있다. 이 2개의 하이퍼파라미터를 다르게 지정하고 각 모델을 평가한다.\n",
    "\n",
    "다음 코드는 np.logspace(-3, 2, num = 6)만큼 모델을 반복적으로 구축하고 가장 높은 성능을 보이는 모델의 gamma와 C 조합을 구한다.\n",
    "\n",
    "logspace은 로그 값으로서 지정된 범위의 값을 배열로 생성한다. 10의 -3승에서 10의 2승 사이의 범위를 6등분한 배열만큼 반복한다.\n",
    "\n",
    "즉 gamma와 C를 이 배열의 조합으로 지정해 모델을 구축하고 홀드아웃 방법으로 모델을 평가한다. 코드를 실행하면 최고 점수를 받은 모델과 이 모델의 gamma와 C가 출력된다. 또한, 각 하이퍼파라미터의 점수를 나타내는 히트맵도 생성된다."
   ]
  },
  {
   "cell_type": "code",
   "execution_count": 29,
   "metadata": {},
   "outputs": [
    {
     "name": "stdout",
     "output_type": "stream",
     "text": [
      "최고 점수: 0.91\n",
      "최고 점수에서의 하이퍼파라미터(gamma, C): (0.001, 1.0)\n"
     ]
    },
    {
     "data": {
      "text/plain": [
       "<Axes: >"
      ]
     },
     "execution_count": 29,
     "metadata": {},
     "output_type": "execute_result"
    },
    {
     "data": {
      "image/png": "[encoded data removed]",
      "text/plain": [
       "<Figure size 640x480 with 2 Axes>"
      ]
     },
     "metadata": {},
     "output_type": "display_data"
    }
   ],
   "source": [
    "from sklearn.svm import SVC\n",
    "from sklearn.model_selection import train_test_split\n",
    "\n",
    "cancer = load_breast_cancer()\n",
    "\n",
    "X_train, X_test, y_train, y_test = train_test_split(cancer.data,\n",
    "                                                    cancer.target,\n",
    "                                                    stratify = cancer.target,\n",
    "                                                    random_state=0)\n",
    "\n",
    "#모든 하이퍼파라미터 조합으로 모델 구축 및 검증\n",
    "scores = {}\n",
    "for gamma in np.logspace(-3, 2, num=6):\n",
    "    for C in np.logspace(-3, 2, num=6):\n",
    "        svm = SVC(gamma=gamma, C=C)\n",
    "        svm.fit(X_train, y_train)\n",
    "        scores[(gamma, C)] = svm.score(X_test, y_test)\n",
    "\n",
    "#검증 결과를 scores에 저장\n",
    "scores = pd.Series(scores)\n",
    "\n",
    "print('최고 점수: {:.2f}'.format(scores.max()))\n",
    "print('최고 점수에서의 하이퍼파라미터(gamma, C): {}'.format(scores.idxmax()))\n",
    "\n",
    "#히트맵 출력, 세로축은 gamma, 가로축은 C\n",
    "sns.heatmap(scores.unstack())"
   ]
  },
  {
   "attachments": {},
   "cell_type": "markdown",
   "metadata": {},
   "source": [
    "---\n",
    "\n",
    "<p>&nbsp;</p>\n",
    "\n",
    "__모듈의 함수를 사용한 그리드 서치 실행__\n",
    "\n",
    "---\n",
    "\n",
    "학습용 데이터를 GridSearchCV 클래스의 fit 메서드에 전달하는 부분에서 앞의 실습 코드와 달라진다.\n",
    "\n",
    "이 부분부터 하이퍼파라미터를 조합한 여러 모델을 평가하고 가장 성능이 좋은 모델 구축까지 완료한다.\n",
    "\n",
    "가장 좋은 하이퍼파라미터 조합과 모델 평가 점수는 모델의 속성 값에서 추출할 수 있다.\n",
    "\n",
    "GridSearchCV 클래스의 fit 메서드를 실행하면 k-겹 교차검들보다 조금 개선된 방법을 이용한다. 따라서 GridSearchCV 클래스의 초기화 파라미터 cv는 5로 지정한다."
   ]
  },
  {
   "cell_type": "code",
   "execution_count": 30,
   "metadata": {},
   "outputs": [
    {
     "name": "stdout",
     "output_type": "stream",
     "text": [
      "Best cross validation score: 0.925\n",
      "Best parameters: {'C': 1.0, 'gamma': 0.001}\n",
      "Test score: 0.909\n"
     ]
    }
   ],
   "source": [
    "from sklearn.model_selection import GridSearchCV\n",
    "\n",
    "param_grid = { 'C': np.logspace(-3, 2, num=6)\n",
    "              , 'gamma': np.logspace(-3, 2, num=6)}\n",
    "\n",
    "gs = GridSearchCV(estimator=SVC(),\n",
    "                  param_grid=param_grid,\n",
    "                  cv=5)\n",
    "\n",
    "gs.fit(X_train, y_train)\n",
    "\n",
    "print('Best cross validation score: {:.3f}'.format(gs.best_score_))\n",
    "print('Best parameters: {}'.format(gs.best_params_))\n",
    "print('Test score: {:.3f}'.format(gs.score(X_test, y_test)))"
   ]
  },
  {
   "attachments": {},
   "cell_type": "markdown",
   "metadata": {},
   "source": [
    "---\n",
    "\n",
    "<p>&nbsp;</p>\n",
    "\n",
    "__랜덤 서치(Random Search)__\n",
    "\n",
    "---\n",
    "\n",
    "그리드 서치는 딕셔너리에 지정한 모든 값을 다 탐색해야만 한다. 랜덤 서치는 랜덤하게 숫자를 넣은 뒤, 정해진 간격(grid)사이에 위치한 값들에 대해서도 확률적으로 탐색이 가능하므로, 최적 hyperparapmeter 값을 더 빨리 찾을 수 있다.\n",
    "\n",
    "---"
   ]
  },
  {
   "attachments": {},
   "cell_type": "markdown",
   "metadata": {},
   "source": [
    "<p>&nbsp;</p>\n",
    "\n",
    "__모델 튜닝: 특징 튜닝__\n",
    "\n",
    "---\n",
    "\n",
    "모델의 성능을 튜닝할 때 중요하게 고려하는 특징(feature)을 다루는 방법에 대한 두 개의 관점\n",
    "\n",
    "> **1.** 학습부족(underfitting)\n",
    "\n",
    "모델에 과적합은 발생하지 않지만 모델의 정확도도 낮을 때, 즉 모델의 일반화 성능이 좋지 않을 경우에는 일반적으로 특징(변수, 차원)을 늘이는 방법을 검토한다.\n",
    "\n",
    "예를 들어 새로운 데이터를 수집해 새로운 특징을 추가하거나 특징 간의 비율을 계산해서 새로운 특징을 추가하는 방법을 모색한다.\n",
    "\n",
    "이 밖에 데이터 수를 인위적으로 늘리는 오버샘플링이란 방법도 존재한다.\n",
    "\n",
    "> **2.** 과학습(overfitting)\n",
    "\n",
    "과적합이 의심되면 학습이 부족한 경우와는 반대로 특징을 줄이는 방법을 검토한다. 데이터 개수에 비해 특징의 수가 많으면 모델의 일반화 성능을 측정할 때 오차가 커진다. 이를 차원의 저주라고 한다.\n",
    "\n",
    "특징의 수를 줄이는 것을 차원 감소(dimension reduction)라고 한다. 차원 감소는 두 가지로 분류된다.\n",
    "\n",
    "하나는 특징의 부분 집합을 선택하는 특징선택(feature selection), 다른 하나는 원래의 특징 공간 축을 다른 공간 축으로 변환하는 특징추출(feature extraction)이다.\n",
    "\n",
    "데이터에서 특징을 추출, 생성, 변환하는 방법을 피처 엔지니어링(feature engineering)이라고 하며, 차원 감소 방식 중에서 모델에 대한 해석이 중요한 경우 특징추출은 원래의 특징들을 조합해 변환하므로 어떤 특징이 모델에 어떻게 영향을 미쳤는지 설명하기 어려운 반면에, 특징선택은 다수의 특징 중에서 일부만 선택해 특징 개수를 줄이므로 어떤 특징이 모델 결과에 영향을 미치는지 설명하기 쉽다. 따라서, 일반적으로 특징선택을 이용하는 편이 좋다. \n",
    "\n",
    "---"
   ]
  },
  {
   "attachments": {},
   "cell_type": "markdown",
   "metadata": {},
   "source": [
    "\n",
    "<p>&nbsp;</p>\n",
    "\n",
    "__분류 모델 평가: 오차행렬과 연관 지표__\n",
    "\n",
    "---\n",
    "\n",
    "오차행렬(confusion matrix)은 분류 모델을 평가할 때 사용하는데 모델의 예측값과 실젯값의 관계를 나타낸다.\n",
    "\n",
    "<table>\n",
    "  <tr>\n",
    "    <td></td>\n",
    "    <td>Predicted Positive</td>\n",
    "    <td>Predicted Negative</td>\n",
    "  </tr>\n",
    "  <tr>\n",
    "    <td>Actual Positive</td>\n",
    "    <td>True Positive (TP)</td>\n",
    "    <td>False Negative (FN)</td>\n",
    "  </tr>\n",
    "  <tr>\n",
    "    <td>Actual Negative</td>\n",
    "    <td>False Positive (FP)</td>\n",
    "    <td>True Negative (TN)</td>\n",
    "  </tr>\n",
    "</table>\n",
    "\n"
   ]
  },
  {
   "cell_type": "code",
   "execution_count": 31,
   "metadata": {},
   "outputs": [
    {
     "name": "stdout",
     "output_type": "stream",
     "text": [
      "SVC train score: 0.981\n",
      "SVC test score: 0.909\n"
     ]
    }
   ],
   "source": [
    "model = SVC(gamma=0.001, C=1)\n",
    "model.fit(X_train, y_train)\n",
    "\n",
    "print('{} train score: {:.3f}'.format(model.__class__.__name__, model.score(X_train, y_train)))\n",
    "print('{} test score: {:.3f}'.format(model.__class__.__name__, model.score(X_test, y_test)))"
   ]
  },
  {
   "cell_type": "code",
   "execution_count": 32,
   "metadata": {},
   "outputs": [
    {
     "name": "stdout",
     "output_type": "stream",
     "text": [
      "Confusioon matrix:\n",
      "[[49  4]\n",
      " [ 9 81]]\n"
     ]
    }
   ],
   "source": [
    "from sklearn.metrics import confusion_matrix\n",
    "\n",
    "y_pred = model.predict(X_test)\n",
    "\n",
    "m = confusion_matrix(y_test, y_pred)\n",
    "print('Confusioon matrix:\\n{}'.format(m))"
   ]
  },
  {
   "attachments": {},
   "cell_type": "markdown",
   "metadata": {},
   "source": [
    "<table>\n",
    "  <tr>\n",
    "    <td></td>\n",
    "    <td>Predicted Negative</td>\n",
    "    <td>Predicted Positive</td>\n",
    "  </tr>\n",
    "  <tr>\n",
    "    <td style=\"text-align: center;\">Actual Negative</td>\n",
    "    <td style=\"text-align: center;\">48</td>\n",
    "    <td style=\"text-align: center;\">5</td>\n",
    "  </tr>\n",
    "  <tr>\n",
    "    <td>Actual positive</td>\n",
    "    <td style=\"text-align: center;\">8</td>\n",
    "    <td style=\"text-align: center;\">82</td>\n",
    "  </tr>\n",
    "</table>\n"
   ]
  },
  {
   "attachments": {},
   "cell_type": "markdown",
   "metadata": {},
   "source": [
    "<p>&nbsp;</p>\n",
    "\n",
    "__모델 성능 평가 지표__\n",
    "\n",
    "---\n",
    "\n",
    "모델의 성능을 다양한 평가지표를 이용해 측정할 수 있다.\n",
    "\n",
    "**분류 모델의 평가 지표**\n",
    "\n",
    "> **1.** 정확도(Accuracy)\n",
    "\n",
    "거짓으로 예측하고 실젯값도 거짓인 데이터 개수(48), 진실로 예측하고 실젯값도 진실인 데이터 개수(82)의 합계를 행렬 전체의 데이터 개수(143)로 나눈 값이다.\n",
    "\n",
    "전체적으로 얼마나 정확하게 예측했는지 나타내는 지표가 정확도이다."
   ]
  },
  {
   "cell_type": "code",
   "execution_count": 33,
   "metadata": {},
   "outputs": [
    {
     "name": "stdout",
     "output_type": "stream",
     "text": [
      "정확도: 0.909\n"
     ]
    }
   ],
   "source": [
    "accuracy = (m[0, 0] + m[1, 1]) / m.sum()\n",
    "print('정확도: {:.3f}'.format(accuracy))"
   ]
  },
  {
   "attachments": {},
   "cell_type": "markdown",
   "metadata": {},
   "source": [
    "> **2.** 정밀도(precision)\n",
    "\n",
    "정밀도는 진실로 예측한 값(82) 중에서 실젯값(87)도 진실인 비율이다."
   ]
  },
  {
   "cell_type": "code",
   "execution_count": 34,
   "metadata": {},
   "outputs": [
    {
     "name": "stdout",
     "output_type": "stream",
     "text": [
      "precision: 0.953\n",
      "정밀도: 0.953\n"
     ]
    }
   ],
   "source": [
    "from sklearn.metrics import precision_score\n",
    "\n",
    "print('precision: {:.3f}'.format(precision_score(y_test, y_pred)))\n",
    "\n",
    "precision = (m[1, 1])/m[:, 1].sum()\n",
    "\n",
    "print('정밀도: {:.3f}'.format(precision))"
   ]
  },
  {
   "attachments": {},
   "cell_type": "markdown",
   "metadata": {},
   "source": [
    "> **3.** 재현도(recall)\n",
    "\n",
    "재현도는 실제값이 진실인 데이터(90) 중에서 올바르게 진실(82)로 예측된 비율이다."
   ]
  },
  {
   "cell_type": "code",
   "execution_count": 35,
   "metadata": {},
   "outputs": [
    {
     "name": "stdout",
     "output_type": "stream",
     "text": [
      "recall: 0.900\n",
      "재현도: 0.900\n"
     ]
    }
   ],
   "source": [
    "from sklearn.metrics import recall_score\n",
    "\n",
    "print('recall: {:.3f}'.format(recall_score(y_test, y_pred)))\n",
    "\n",
    "recall = (m[1, 1])/m[1, :].sum()\n",
    "\n",
    "print('재현도: {:.3f}'.format(recall))"
   ]
  },
  {
   "attachments": {},
   "cell_type": "markdown",
   "metadata": {},
   "source": [
    "\n",
    "> **4.** F1 점수(F1-measure)\n",
    "\n",
    "F1 점수는 정밀도와 재현도의 조화 평균이다. 정밀도와 재현도 중 무엇이 더 중요한지 결정하지 않은 시점에서 모델을 종합적으로 평가하는 경우에 사용된다\n",
    "\n",
    "조화평균은 통계학에서 사용되는 세 가지 평균 값 중 하나로, 주어진 데이터 집합의 역수의 평균을 계산한다. 즉, 주어진 값들을 역수로 변환한 후에 이 값들의 산술평균을 구한다.\n",
    "\n",
    "일반적인 조화평균은 n개의 양의 실수 x1, x2, ..., xn의 역수의 합을 n으로 나눈 것으로 정의된다.\n",
    "\n",
    "$H = n/(1/x1 + 1/x2 + ... + 1/xn)$\n",
    "\n",
    "하지만 F1 점수는 정밀도와 재현율의 값의 조화 평균을 사용하여 이진 분류 작업에서 정밀도와 재현율의 중요성을 균형 있게 고려하기 위해\n",
    "\n",
    "$F1 = 2*(정밀도*재현도)/(정밀도+재현도)$\n",
    "\n",
    "로 정의된다."
   ]
  },
  {
   "cell_type": "code",
   "execution_count": 36,
   "metadata": {},
   "outputs": [
    {
     "name": "stdout",
     "output_type": "stream",
     "text": [
      "F1-measure: 0.926\n",
      "F1 값: 0.926\n"
     ]
    }
   ],
   "source": [
    "from sklearn.metrics import f1_score\n",
    "\n",
    "print('F1-measure: {:.3f}'.format(f1_score(y_test, y_pred)))\n",
    "\n",
    "f1 = 2 * (precision * recall)/(precision + recall)\n",
    "\n",
    "print('F1 값: {:.3f}'.format(f1))"
   ]
  },
  {
   "attachments": {},
   "cell_type": "markdown",
   "metadata": {},
   "source": [
    "\n",
    "> **5.** AUC(Area Under Curve)\n",
    "\n",
    "오차행렬은 예측 결과가 긍정과 부정으로 분류되었다는 것을 전제로 한다. 그러나 모델을 평가하는 시점에서 분석가가 예측값을 긍정인지 부정인지 판단하기 위한 적절한 임곗값(보통은 확률 0.5를 기준으로 설정함)을 결정하지 못한 경우도 있다.\n",
    "\n",
    "분류 모델이 출력하는 예측 확률값과 실젯값(1 또는 0)과의 관계를 이용해 모델의 성능을 평가할 때 ROC 곡석과 AUC를 활용한다.\n",
    "\n",
    "_ROC 곡선_\n",
    "\n",
    "ROC 곡선은 세로축에 진양성률(true positive rate, tpr), 가로축에 위양성률(false positive rate  rate, fpr) 값을 표시하는 곡선이다.\n",
    "\n",
    "진양성률은 실제 긍정값 개수와 긍정값으로 예측된 개수의 비율(재현도와 동일)이고, 위양성율은 실제 부정값 개수와 부정값으로 예측된 개수의 비율이다.\n",
    "\n",
    "예측 확률 수치를 예측 레이블(긍정 또는 부정)로 변환할 때의 임곗값(기준값)을 0.0과 1.0 사이에서 조금씩 변화시키고 진양성률과 위양성율의 관계를 그래프로 그린 것이 ROC곡선이다.\n",
    "\n",
    "---\n"
   ]
  },
  {
   "attachments": {},
   "cell_type": "markdown",
   "metadata": {},
   "source": [
    "<p>&nbsp;</p>\n",
    "\n",
    "__예측 확률을 임곗값을 기준으로 나누고 예측 레이블 생성__\n",
    "\n",
    "---\n",
    "\n",
    "로지스틱회귀 모델을 구축하는 LogisticRegression 클래스의 predict_proba 메서드를 이용해 암이 악성인지(malignant: 0) 양성인지(benign: 1) 예측하는 확률을 계산한다.\n",
    "\n",
    "predict_proba 메서드의 출력받은 0 또는 1과 같은 레이블이 아니라 각 범주(레이블)로 분류될 확률값 배열이다.\n",
    "\n",
    "여기에서는 악성(malignant: 0)을 긍정값, 양성(benign: 1)를 부정값으로 생각한다."
   ]
  },
  {
   "cell_type": "code",
   "execution_count": 37,
   "metadata": {},
   "outputs": [
    {
     "data": {
      "text/html": [
       "<div>\n",
       "<style scoped>\n",
       "    .dataframe tbody tr th:only-of-type {\n",
       "        vertical-align: middle;\n",
       "    }\n",
       "\n",
       "    .dataframe tbody tr th {\n",
       "        vertical-align: top;\n",
       "    }\n",
       "\n",
       "    .dataframe thead th {\n",
       "        text-align: right;\n",
       "    }\n",
       "</style>\n",
       "<table border=\"1\" class=\"dataframe\">\n",
       "  <thead>\n",
       "    <tr style=\"text-align: right;\">\n",
       "      <th></th>\n",
       "      <th>malignant</th>\n",
       "      <th>benign</th>\n",
       "    </tr>\n",
       "  </thead>\n",
       "  <tbody>\n",
       "    <tr>\n",
       "      <th>0</th>\n",
       "      <td>0.003751</td>\n",
       "      <td>0.996249</td>\n",
       "    </tr>\n",
       "    <tr>\n",
       "      <th>1</th>\n",
       "      <td>0.000525</td>\n",
       "      <td>0.999475</td>\n",
       "    </tr>\n",
       "    <tr>\n",
       "      <th>2</th>\n",
       "      <td>0.027682</td>\n",
       "      <td>0.972318</td>\n",
       "    </tr>\n",
       "    <tr>\n",
       "      <th>3</th>\n",
       "      <td>0.007184</td>\n",
       "      <td>0.992816</td>\n",
       "    </tr>\n",
       "    <tr>\n",
       "      <th>4</th>\n",
       "      <td>0.003221</td>\n",
       "      <td>0.996779</td>\n",
       "    </tr>\n",
       "  </tbody>\n",
       "</table>\n",
       "</div>"
      ],
      "text/plain": [
       "   malignant    benign\n",
       "0   0.003751  0.996249\n",
       "1   0.000525  0.999475\n",
       "2   0.027682  0.972318\n",
       "3   0.007184  0.992816\n",
       "4   0.003221  0.996779"
      ]
     },
     "execution_count": 37,
     "metadata": {},
     "output_type": "execute_result"
    }
   ],
   "source": [
    "from sklearn.linear_model import LogisticRegression\n",
    "\n",
    "cancer = load_breast_cancer()\n",
    "\n",
    "X_train, X_test, y_train, y_test = train_test_split(cancer.data,\n",
    "                                                    cancer.target,\n",
    "                                                    stratify= cancer.target,\n",
    "                                                    random_state=66)\n",
    "\n",
    "model = LogisticRegression(random_state= 0, solver='liblinear')\n",
    "model.fit(X_train, y_train)\n",
    "\n",
    "results = pd.DataFrame(model.predict_proba(X_test), columns=cancer.target_names)\n",
    "\n",
    "results.head()"
   ]
  },
  {
   "attachments": {},
   "cell_type": "markdown",
   "metadata": {},
   "source": [
    "예측 확률값을기준으로 예측 레이블을 분류(malignant: 0, benign: 1)할 때 단순하게 50%(0.5)를 기준(임곗값)으로 판단할 수도 있지만 실제로는 모델의 사용 목적, 긍정값의 자연 발생률 등을 고려해 임곗값을 설정한다.\n",
    "\n",
    "임곗값을 바꾸면 당연히 긍정값으로 예측되는 데이터 개수도 바뀌므로, 정확도, 정밀도, 재현도도 달라진다.\n",
    "\n",
    "임곗값을 4개의 값 0.4, 0.3, 0.15, 0.05로 설정하여 양성 예측 확룰이 임곗값을 초과하면 1, 그렇지 않으면 0이 할당되는 변수를 만든다."
   ]
  },
  {
   "cell_type": "code",
   "execution_count": 38,
   "metadata": {},
   "outputs": [
    {
     "data": {
      "text/html": [
       "<div>\n",
       "<style scoped>\n",
       "    .dataframe tbody tr th:only-of-type {\n",
       "        vertical-align: middle;\n",
       "    }\n",
       "\n",
       "    .dataframe tbody tr th {\n",
       "        vertical-align: top;\n",
       "    }\n",
       "\n",
       "    .dataframe thead th {\n",
       "        text-align: right;\n",
       "    }\n",
       "</style>\n",
       "<table border=\"1\" class=\"dataframe\">\n",
       "  <thead>\n",
       "    <tr style=\"text-align: right;\">\n",
       "      <th></th>\n",
       "      <th>malignant</th>\n",
       "      <th>benign</th>\n",
       "      <th>flag_0.4</th>\n",
       "      <th>flag_0.3</th>\n",
       "      <th>flag_0.15</th>\n",
       "      <th>flag_0.05</th>\n",
       "    </tr>\n",
       "  </thead>\n",
       "  <tbody>\n",
       "    <tr>\n",
       "      <th>0</th>\n",
       "      <td>0.003751</td>\n",
       "      <td>0.996249</td>\n",
       "      <td>1</td>\n",
       "      <td>1</td>\n",
       "      <td>1</td>\n",
       "      <td>1</td>\n",
       "    </tr>\n",
       "    <tr>\n",
       "      <th>1</th>\n",
       "      <td>0.000525</td>\n",
       "      <td>0.999475</td>\n",
       "      <td>1</td>\n",
       "      <td>1</td>\n",
       "      <td>1</td>\n",
       "      <td>1</td>\n",
       "    </tr>\n",
       "    <tr>\n",
       "      <th>2</th>\n",
       "      <td>0.027682</td>\n",
       "      <td>0.972318</td>\n",
       "      <td>1</td>\n",
       "      <td>1</td>\n",
       "      <td>1</td>\n",
       "      <td>1</td>\n",
       "    </tr>\n",
       "    <tr>\n",
       "      <th>3</th>\n",
       "      <td>0.007184</td>\n",
       "      <td>0.992816</td>\n",
       "      <td>1</td>\n",
       "      <td>1</td>\n",
       "      <td>1</td>\n",
       "      <td>1</td>\n",
       "    </tr>\n",
       "    <tr>\n",
       "      <th>4</th>\n",
       "      <td>0.003221</td>\n",
       "      <td>0.996779</td>\n",
       "      <td>1</td>\n",
       "      <td>1</td>\n",
       "      <td>1</td>\n",
       "      <td>1</td>\n",
       "    </tr>\n",
       "    <tr>\n",
       "      <th>5</th>\n",
       "      <td>0.008860</td>\n",
       "      <td>0.991140</td>\n",
       "      <td>1</td>\n",
       "      <td>1</td>\n",
       "      <td>1</td>\n",
       "      <td>1</td>\n",
       "    </tr>\n",
       "    <tr>\n",
       "      <th>6</th>\n",
       "      <td>0.006006</td>\n",
       "      <td>0.993994</td>\n",
       "      <td>1</td>\n",
       "      <td>1</td>\n",
       "      <td>1</td>\n",
       "      <td>1</td>\n",
       "    </tr>\n",
       "    <tr>\n",
       "      <th>7</th>\n",
       "      <td>0.003219</td>\n",
       "      <td>0.996781</td>\n",
       "      <td>1</td>\n",
       "      <td>1</td>\n",
       "      <td>1</td>\n",
       "      <td>1</td>\n",
       "    </tr>\n",
       "    <tr>\n",
       "      <th>8</th>\n",
       "      <td>0.917958</td>\n",
       "      <td>0.082042</td>\n",
       "      <td>0</td>\n",
       "      <td>0</td>\n",
       "      <td>0</td>\n",
       "      <td>1</td>\n",
       "    </tr>\n",
       "    <tr>\n",
       "      <th>9</th>\n",
       "      <td>0.817307</td>\n",
       "      <td>0.182693</td>\n",
       "      <td>0</td>\n",
       "      <td>0</td>\n",
       "      <td>1</td>\n",
       "      <td>1</td>\n",
       "    </tr>\n",
       "  </tbody>\n",
       "</table>\n",
       "</div>"
      ],
      "text/plain": [
       "   malignant    benign  flag_0.4  flag_0.3  flag_0.15  flag_0.05\n",
       "0   0.003751  0.996249         1         1          1          1\n",
       "1   0.000525  0.999475         1         1          1          1\n",
       "2   0.027682  0.972318         1         1          1          1\n",
       "3   0.007184  0.992816         1         1          1          1\n",
       "4   0.003221  0.996779         1         1          1          1\n",
       "5   0.008860  0.991140         1         1          1          1\n",
       "6   0.006006  0.993994         1         1          1          1\n",
       "7   0.003219  0.996781         1         1          1          1\n",
       "8   0.917958  0.082042         0         0          0          1\n",
       "9   0.817307  0.182693         0         0          1          1"
      ]
     },
     "execution_count": 38,
     "metadata": {},
     "output_type": "execute_result"
    }
   ],
   "source": [
    "#양성(benign) 범주 예측 확률이 0.4, 0.3, 0.15, 0.05 일 때 각 칼럼(변수)에 1을 지정\n",
    "threshold = [0.4, 0.3, 0.15, 0.05]\n",
    "\n",
    "for i in threshold:\n",
    "    results[f'flag_{i}'] = results['benign'].map(lambda x: 1 if x > i else 0)\n",
    "\n",
    "results.head(10)"
   ]
  },
  {
   "attachments": {},
   "cell_type": "markdown",
   "metadata": {},
   "source": [
    "이와 같이 예측 확률과 임곗값을 이용해 예측 결과 변수를 생성하면 실젯값과의 오차행렬표를 만들어 위양성률과 진양성률을(임곗값별로) 계산할 수 있다.\n",
    "\n",
    "---"
   ]
  },
  {
   "attachments": {},
   "cell_type": "markdown",
   "metadata": {},
   "source": [
    "<p>&nbsp;</p>\n",
    "\n",
    "__ROC 곡선 그래프 그리기__\n",
    "\n",
    "---\n",
    "\n",
    "4개의 임곗값만으로는 ROC 곡선의 일부만 표현할 수 있다. 아래 코드는 임곗값을 0.01 ~ 0.99 사이에서 50개 만들어 위양성 비율과 진양성 비율을 그래프로 나타낸다."
   ]
  },
  {
   "cell_type": "code",
   "execution_count": 39,
   "metadata": {},
   "outputs": [
    {
     "data": {
      "text/plain": [
       "<Axes: xlabel='false positive rate', ylabel='true positive rate'>"
      ]
     },
     "execution_count": 39,
     "metadata": {},
     "output_type": "execute_result"
    },
    {
     "data": {
      "image/png": "[encoded data removed]",
      "text/plain": [
       "<Figure size 640x480 with 1 Axes>"
      ]
     },
     "metadata": {},
     "output_type": "display_data"
    }
   ],
   "source": [
    "#임곗값을 0.01 ~ 0.99 사이에서 50개를 만들고 위양성 비율과 진양성 비율 계산\n",
    "#labels로 얻은 결과가 앞에서 확인한 예측 결과 변수\n",
    "\n",
    "rates = {}\n",
    "for threshold in np.linspace(0.01, 0.99, num= 50):\n",
    "    labels = results['benign'].map(lambda x: 1 if x > threshold else 0)\n",
    "    m = confusion_matrix(y_test, labels)\n",
    "    rates[threshold] = {'false positive rate': m[0, 1] / m[0, :].sum(),\n",
    "                        'true positive rate': m[1, 1] / m[1, :].sum()}\n",
    "    \n",
    "# 가로축은 false positive rate, 세로축은 true positive rate로 그래프 그리기\n",
    "pd.DataFrame(rates).T.plot.scatter('false positive rate', 'true positive rate')"
   ]
  }
 ],
 "metadata": {
  "kernelspec": {
   "display_name": "Python 3",
   "language": "python",
   "name": "python3"
  },
  "language_info": {
   "codemirror_mode": {
    "name": "ipython",
    "version": 3
   },
   "file_extension": ".py",
   "mimetype": "text/x-python",
   "name": "python",
   "nbconvert_exporter": "python",
   "pygments_lexer": "ipython3",
   "version": "3.11.2"
  },
  "orig_nbformat": 4
 },
 "nbformat": 4,
 "nbformat_minor": 2
}
