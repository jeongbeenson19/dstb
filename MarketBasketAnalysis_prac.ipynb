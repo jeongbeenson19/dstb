{
 "cells": [
  {
   "attachments": {},
   "cell_type": "markdown",
   "metadata": {},
   "source": [
    "## 장바구니 분석과 연관 규칙 ##\n",
    "\n",
    "__장바구니 분석__\n",
    "\n",
    "장바구니 분석은 A 상품을 구입하면 B 상품을 구매한다는 식의 상품 간 구매 관련성을 분석한다.\n",
    "\n",
    "상품들의 구매 관계에 관한 규칙을 연관 규칙(Association Rule)이라고 한다."
   ]
  },
  {
   "attachments": {},
   "cell_type": "markdown",
   "metadata": {},
   "source": [
    "__장바구니 분석을 위한 샘플 데이터 입력__\n",
    "\n",
    "하나의 InvoiceNo는 여러 상품 정보를 가질 수 있으며, 동일한 InvoiceNo는 한 번의 거래에서 함께 구매되었다는 의미이다. 따라서 동일한 InvocieNo 세트가 하나의 트랜잭션(거래)이다.\n",
    "\n",
    "구매 이력 데이터는 트랜잭션 데이터이다."
   ]
  },
  {
   "cell_type": "code",
   "execution_count": 8,
   "metadata": {},
   "outputs": [
    {
     "data": {
      "text/plain": [
       "'%.3f'"
      ]
     },
     "execution_count": 8,
     "metadata": {},
     "output_type": "execute_result"
    }
   ],
   "source": [
    "import numpy as np\n",
    "import numpy.random as random\n",
    "import scipy as sp\n",
    "from pandas import Series, DataFrame\n",
    "import pandas as pd\n",
    "\n",
    "import matplotlib.pyplot as plt\n",
    "import matplotlib as mpl\n",
    "import seaborn as sns\n",
    "%matplotlib inline\n",
    "\n",
    "import sklearn\n",
    "\n",
    "%precision 3\n"
   ]
  },
  {
   "cell_type": "code",
   "execution_count": 9,
   "metadata": {},
   "outputs": [],
   "source": [
    "import requests, zipfile\n",
    "from io import StringIO\n",
    "import io"
   ]
  },
  {
   "cell_type": "code",
   "execution_count": 10,
   "metadata": {},
   "outputs": [
    {
     "data": {
      "text/html": [
       "<div>\n",
       "<style scoped>\n",
       "    .dataframe tbody tr th:only-of-type {\n",
       "        vertical-align: middle;\n",
       "    }\n",
       "\n",
       "    .dataframe tbody tr th {\n",
       "        vertical-align: top;\n",
       "    }\n",
       "\n",
       "    .dataframe thead th {\n",
       "        text-align: right;\n",
       "    }\n",
       "</style>\n",
       "<table border=\"1\" class=\"dataframe\">\n",
       "  <thead>\n",
       "    <tr style=\"text-align: right;\">\n",
       "      <th></th>\n",
       "      <th>InvoiceNo</th>\n",
       "      <th>StockCode</th>\n",
       "      <th>Description</th>\n",
       "      <th>Quantity</th>\n",
       "      <th>InvoiceDate</th>\n",
       "      <th>UnitPrice</th>\n",
       "      <th>CustomerID</th>\n",
       "      <th>Country</th>\n",
       "    </tr>\n",
       "  </thead>\n",
       "  <tbody>\n",
       "    <tr>\n",
       "      <th>0</th>\n",
       "      <td>536365</td>\n",
       "      <td>85123A</td>\n",
       "      <td>WHITE HANGING HEART T-LIGHT HOLDER</td>\n",
       "      <td>6</td>\n",
       "      <td>2010-12-01 08:26:00</td>\n",
       "      <td>2.55</td>\n",
       "      <td>17850.0</td>\n",
       "      <td>United Kingdom</td>\n",
       "    </tr>\n",
       "    <tr>\n",
       "      <th>1</th>\n",
       "      <td>536365</td>\n",
       "      <td>71053</td>\n",
       "      <td>WHITE METAL LANTERN</td>\n",
       "      <td>6</td>\n",
       "      <td>2010-12-01 08:26:00</td>\n",
       "      <td>3.39</td>\n",
       "      <td>17850.0</td>\n",
       "      <td>United Kingdom</td>\n",
       "    </tr>\n",
       "    <tr>\n",
       "      <th>2</th>\n",
       "      <td>536365</td>\n",
       "      <td>84406B</td>\n",
       "      <td>CREAM CUPID HEARTS COAT HANGER</td>\n",
       "      <td>8</td>\n",
       "      <td>2010-12-01 08:26:00</td>\n",
       "      <td>2.75</td>\n",
       "      <td>17850.0</td>\n",
       "      <td>United Kingdom</td>\n",
       "    </tr>\n",
       "    <tr>\n",
       "      <th>3</th>\n",
       "      <td>536365</td>\n",
       "      <td>84029G</td>\n",
       "      <td>KNITTED UNION FLAG HOT WATER BOTTLE</td>\n",
       "      <td>6</td>\n",
       "      <td>2010-12-01 08:26:00</td>\n",
       "      <td>3.39</td>\n",
       "      <td>17850.0</td>\n",
       "      <td>United Kingdom</td>\n",
       "    </tr>\n",
       "    <tr>\n",
       "      <th>4</th>\n",
       "      <td>536365</td>\n",
       "      <td>84029E</td>\n",
       "      <td>RED WOOLLY HOTTIE WHITE HEART.</td>\n",
       "      <td>6</td>\n",
       "      <td>2010-12-01 08:26:00</td>\n",
       "      <td>3.39</td>\n",
       "      <td>17850.0</td>\n",
       "      <td>United Kingdom</td>\n",
       "    </tr>\n",
       "  </tbody>\n",
       "</table>\n",
       "</div>"
      ],
      "text/plain": [
       "  InvoiceNo StockCode                          Description  Quantity  \\\n",
       "0    536365    85123A   WHITE HANGING HEART T-LIGHT HOLDER         6   \n",
       "1    536365     71053                  WHITE METAL LANTERN         6   \n",
       "2    536365    84406B       CREAM CUPID HEARTS COAT HANGER         8   \n",
       "3    536365    84029G  KNITTED UNION FLAG HOT WATER BOTTLE         6   \n",
       "4    536365    84029E       RED WOOLLY HOTTIE WHITE HEART.         6   \n",
       "\n",
       "          InvoiceDate  UnitPrice  CustomerID         Country  \n",
       "0 2010-12-01 08:26:00       2.55     17850.0  United Kingdom  \n",
       "1 2010-12-01 08:26:00       3.39     17850.0  United Kingdom  \n",
       "2 2010-12-01 08:26:00       2.75     17850.0  United Kingdom  \n",
       "3 2010-12-01 08:26:00       3.39     17850.0  United Kingdom  \n",
       "4 2010-12-01 08:26:00       3.39     17850.0  United Kingdom  "
      ]
     },
     "execution_count": 10,
     "metadata": {},
     "output_type": "execute_result"
    }
   ],
   "source": [
    "trans = pd.read_excel('Online Retail.xlsx', sheet_name='Online Retail')\n",
    "trans.head()"
   ]
  },
  {
   "attachments": {},
   "cell_type": "markdown",
   "metadata": {},
   "source": [
    "__데이터 정리와 확인__\n",
    "\n",
    "InvoiceNo의 첫 번째 문자는 해당 트랜잭션의 상태를 나타낸다.\n",
    "\n",
    "5가 정상적인데이터, C가 취소, A는 불명확한 데이터이다."
   ]
  },
  {
   "cell_type": "code",
   "execution_count": 11,
   "metadata": {},
   "outputs": [
    {
     "data": {
      "text/plain": [
       "cancel_flg\n",
       "5    532618\n",
       "A         3\n",
       "C      9288\n",
       "dtype: int64"
      ]
     },
     "execution_count": 11,
     "metadata": {},
     "output_type": "execute_result"
    }
   ],
   "source": [
    "#IncoiceNo의 첫 번째 문자를 추출해 cancel_flg 생성\n",
    "trans['cancel_flg'] = trans.InvoiceNo.map(lambda x:str(x)[0])\n",
    "\n",
    "# cancel_flg의 그룹을 나누고 집계\n",
    "trans.groupby('cancel_flg').size()"
   ]
  },
  {
   "cell_type": "code",
   "execution_count": 12,
   "metadata": {},
   "outputs": [],
   "source": [
    "trans = trans[(trans.cancel_flg == '5') & (trans.CustomerID.notnull())]"
   ]
  },
  {
   "attachments": {},
   "cell_type": "markdown",
   "metadata": {},
   "source": [
    "__연관 규칙__\n",
    "\n"
   ]
  },
  {
   "cell_type": "code",
   "execution_count": 13,
   "metadata": {},
   "outputs": [
    {
     "data": {
      "text/plain": [
       "85123A    2035\n",
       "22423     1724\n",
       "85099B    1618\n",
       "84879     1408\n",
       "47566     1397\n",
       "Name: StockCode, dtype: int64"
      ]
     },
     "execution_count": 13,
     "metadata": {},
     "output_type": "execute_result"
    }
   ],
   "source": [
    "# StockCode별로 데이터 개수를 집계하고 상위 5개 출력\n",
    "\n",
    "trans['StockCode'].value_counts().head(5)\n"
   ]
  },
  {
   "attachments": {},
   "cell_type": "markdown",
   "metadata": {},
   "source": [
    "1. 지지도(support)\n",
    "\n",
    "지지도는 어떤 상품이 함께 구매된 장바구니의 수 또는 해당 장바구니 수가 전체에서 차지하는 비율이다.\n",
    "\n",
    "지지도는 상대적인 값이며 높은지 낮은지 일률적으로 말할수 없다.\n",
    "\n",
    "일반적으로 지지도가 낮으면 유용하지 않은 규칙이기 때문에, 발견한 규칙을 활용할지 말지 판달할 때 지지도를 기준으로 삼는다."
   ]
  },
  {
   "cell_type": "code",
   "execution_count": 14,
   "metadata": {},
   "outputs": [
    {
     "name": "stdout",
     "output_type": "stream",
     "text": [
      "1978\n",
      "1600\n",
      "252\n"
     ]
    }
   ],
   "source": [
    "#모든 InvocieNo를 추출하고 trans_all에 저장\n",
    "trans_all = set(trans.InvoiceNo)\n",
    "\n",
    "#상품 85123A를 구입한 구매 데이터를 trans_a에 저장\n",
    "trans_a = set(trans[trans['StockCode']=='85123A'].InvoiceNo)\n",
    "print(len(trans_a))\n",
    "\n",
    "#상품 85099B를 구입한 구매 데이터를 trans_b에 저장\n",
    "trans_b = set(trans[trans['StockCode']=='85099B'].InvoiceNo)\n",
    "print(len(trans_b))\n",
    "\n",
    "#상품 05123A와 85099B를 동시에 구입한 구매 데이터를 trans_ab에 저장\n",
    "trans_ab = trans_a&trans_b\n",
    "print(len(trans_ab))"
   ]
  },
  {
   "cell_type": "code",
   "execution_count": 17,
   "metadata": {},
   "outputs": [
    {
     "name": "stdout",
     "output_type": "stream",
     "text": [
      "두 상품을 모두 포함하는 장바구니 수: 252\n",
      "두 상품을 모두 포함하는 장바구니가 전체에서 차지하는 비율: 0.014\n"
     ]
    }
   ],
   "source": [
    "# 두 상품을 포함하는 trans_ab의 수를 출력\n",
    "print('두 상품을 모두 포함하는 장바구니 수: {}'.format(len(trans_ab)))\n",
    "print('두 상품을 모두 포함하는 장바구니가 전체에서 차지하는 비율: {:.3f}'.\n",
    "      format(len(trans_ab)/len(trans_all)))"
   ]
  },
  {
   "cell_type": "code",
   "execution_count": 19,
   "metadata": {},
   "outputs": [
    {
     "name": "stdout",
     "output_type": "stream",
     "text": [
      "상품 85123A를 포함하는 장바구니 수: 1978\n",
      "상품 85123A를 포함하는 장바구니가 전체에서 차지하는 비율: 0.107\n"
     ]
    }
   ],
   "source": [
    "print('상품 85123A를 포함하는 장바구니 수: {}'.format(len(trans_a)))\n",
    "print('상품 85123A를 포함하는 장바구니가 전체에서 차지하는 비율: {:.3f}'.\n",
    "      format(len(trans_a)/len(trans_all)))"
   ]
  },
  {
   "attachments": {},
   "cell_type": "markdown",
   "metadata": {},
   "source": [
    "2. 신뢰도(confidence)\n",
    "\n",
    "어떤 상품 A의 구입 횟수를 기준으로 상품 A와 상품 B를 동시에 구매하는 비율이 어느 정도인지 나타낸다.\n",
    "\n",
    "신뢰도가 높으면 함께 판매될 가능성이 높은 상품이므로연결판매를 계획한다면 신뢰도를 기준으로행사 상품을 선택하는 방식으로 연관 규칙을 활용할 수 있다.\n",
    "\n",
    "단, 신뢰도만으로는 불충분하기 때문에 일반적으로 리프트 값도 함께 고려한다."
   ]
  },
  {
   "cell_type": "code",
   "execution_count": 21,
   "metadata": {},
   "outputs": [
    {
     "name": "stdout",
     "output_type": "stream",
     "text": [
      "신뢰도: 0.127\n"
     ]
    }
   ],
   "source": [
    "#상품 85123A를 구입하면 상품 85099B도 구입한다는 규칙의 신뢰도\n",
    "print('신뢰도: {:.3f}'.format(len(trans_ab)/len(trans_a)))"
   ]
  },
  {
   "cell_type": "code",
   "execution_count": 22,
   "metadata": {},
   "outputs": [
    {
     "name": "stdout",
     "output_type": "stream",
     "text": [
      "신뢰도: 0.158\n"
     ]
    }
   ],
   "source": [
    "#상품 855099B를 구입하면 상품 85123A도 구입한다는 규칙의 신뢰도\n",
    "print('신뢰도: {:.3f}'.format(len(trans_ab)/len(trans_b)))"
   ]
  },
  {
   "attachments": {},
   "cell_type": "markdown",
   "metadata": {},
   "source": [
    "3. 리프트 값(lift)\n",
    "\n",
    "상품 A를 구입하면 상품 B도 구매한다는 연관 규칙에서 리프트 값은 규칙의 신뢰도를 상품 B의 지지도로 나눈 값이다.\n",
    "\n",
    "즉, 전체 장바구니에서 상품 B의 구매율과 상품 A와 상품 B를 함께 구매한 비율을 비교한 수치가 리프트 값이다.\n",
    "\n",
    "리프트 값이 1.0보다 크면 같이 판매되기 쉽고 1.0보다 작으면 같이 판매되기 어렵다고 해석할 수  있다."
   ]
  },
  {
   "cell_type": "code",
   "execution_count": 23,
   "metadata": {},
   "outputs": [
    {
     "name": "stdout",
     "output_type": "stream",
     "text": [
      "lift: 1.476\n"
     ]
    }
   ],
   "source": [
    "# 전체 장바구니에서 차지하는 상품 B의 구매 비율계산\n",
    "support_b = len(trans_b) / len(trans_all)\n",
    "\n",
    "# 상품 A를 구매하고 상품 B도 구매한 비율 계산\n",
    "confidence = len(trans_ab) / len(trans_a)\n",
    "\n",
    "# 리프트 값 계산\n",
    "lift = confidence / support_b\n",
    "print('lift: {:.3f}'.format(lift))"
   ]
  },
  {
   "cell_type": "code",
   "execution_count": null,
   "metadata": {},
   "outputs": [],
   "source": []
  }
 ],
 "metadata": {
  "kernelspec": {
   "display_name": "Python 3",
   "language": "python",
   "name": "python3"
  },
  "language_info": {
   "codemirror_mode": {
    "name": "ipython",
    "version": 3
   },
   "file_extension": ".py",
   "mimetype": "text/x-python",
   "name": "python",
   "nbconvert_exporter": "python",
   "pygments_lexer": "ipython3",
   "version": "3.11.2"
  },
  "orig_nbformat": 4
 },
 "nbformat": 4,
 "nbformat_minor": 2
}
